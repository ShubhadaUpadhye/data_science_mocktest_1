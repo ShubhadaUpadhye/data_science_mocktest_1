{
 "cells": [
  {
   "cell_type": "code",
   "execution_count": null,
   "metadata": {},
   "outputs": [],
   "source": [
    "## ans18\n",
    "import time\n",
    "\n",
    "def timer(function):\n",
    "    def wrapper(*args):\n",
    "        start_time = time.time()\n",
    "        result = function(*args)\n",
    "        end_time = time.time()\n",
    "        execute_time = end_time - start_time   \n",
    "        return execute_time\n",
    "    return wrapper\n",
    "@timer\n",
    "def even_nums(nums):\n",
    "    nums=nums.split()\n",
    "    nums1=[int(i) for i in nums if int(i)%2==0]\n",
    "    time.sleep(2)\n",
    "even_nums(input(\"enter digits with space in between\"))"
   ]
  }
 ],
 "metadata": {
  "kernelspec": {
   "display_name": "Python 3",
   "language": "python",
   "name": "python3"
  },
  "language_info": {
   "codemirror_mode": {
    "name": "ipython",
    "version": 3
   },
   "file_extension": ".py",
   "mimetype": "text/x-python",
   "name": "python",
   "nbconvert_exporter": "python",
   "pygments_lexer": "ipython3",
   "version": "3.8.5"
  }
 },
 "nbformat": 4,
 "nbformat_minor": 4
}
